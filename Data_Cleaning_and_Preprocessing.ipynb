{
  "cells": [
    {
      "cell_type": "markdown",
      "source": [
        "### Setup"
      ],
      "metadata": {
        "id": "g44IUix2Z0ql"
      }
    },
    {
      "cell_type": "code",
      "source": [
        "from google.colab import drive\n",
        "#drive.flush_and_unmount()\n",
        "drive.mount('/content/drive')"
      ],
      "metadata": {
        "colab": {
          "base_uri": "https://localhost:8080/"
        },
        "id": "D72mn0X9NptP",
        "outputId": "6f1b0c9e-235e-45c7-fa8d-82d363c70636"
      },
      "execution_count": null,
      "outputs": [
        {
          "output_type": "stream",
          "name": "stdout",
          "text": [
            "Drive already mounted at /content/drive; to attempt to forcibly remount, call drive.mount(\"/content/drive\", force_remount=True).\n"
          ]
        }
      ]
    },
    {
      "cell_type": "code",
      "execution_count": null,
      "metadata": {
        "id": "GUP9774JTuC9"
      },
      "outputs": [],
      "source": [
        "import pandas as pd\n",
        "import numpy as np"
      ]
    },
    {
      "cell_type": "code",
      "source": [
        "climate_train = pd.read_csv(\"./drive/MyDrive/Colaboratory Notebooks/WiDS22_Climate_Change/Data/train.csv\")\n",
        "climate_train = climate_train.set_index(\"id\")\n",
        "climate_train.sample(3)"
      ],
      "metadata": {
        "colab": {
          "base_uri": "https://localhost:8080/",
          "height": 239
        },
        "id": "oetiPqeUWEn5",
        "outputId": "30f456e2-b3c0-4c16-de56-d4a4c1d54e54"
      },
      "execution_count": null,
      "outputs": [
        {
          "output_type": "execute_result",
          "data": {
            "text/html": [
              "\n",
              "  <div id=\"df-3145a855-e78c-4f03-8c74-3359a47a736a\">\n",
              "    <div class=\"colab-df-container\">\n",
              "      <div>\n",
              "<style scoped>\n",
              "    .dataframe tbody tr th:only-of-type {\n",
              "        vertical-align: middle;\n",
              "    }\n",
              "\n",
              "    .dataframe tbody tr th {\n",
              "        vertical-align: top;\n",
              "    }\n",
              "\n",
              "    .dataframe thead th {\n",
              "        text-align: right;\n",
              "    }\n",
              "</style>\n",
              "<table border=\"1\" class=\"dataframe\">\n",
              "  <thead>\n",
              "    <tr style=\"text-align: right;\">\n",
              "      <th></th>\n",
              "      <th>Year_Factor</th>\n",
              "      <th>State_Factor</th>\n",
              "      <th>building_class</th>\n",
              "      <th>facility_type</th>\n",
              "      <th>floor_area</th>\n",
              "      <th>year_built</th>\n",
              "      <th>energy_star_rating</th>\n",
              "      <th>ELEVATION</th>\n",
              "      <th>january_min_temp</th>\n",
              "      <th>january_avg_temp</th>\n",
              "      <th>january_max_temp</th>\n",
              "      <th>february_min_temp</th>\n",
              "      <th>february_avg_temp</th>\n",
              "      <th>february_max_temp</th>\n",
              "      <th>march_min_temp</th>\n",
              "      <th>march_avg_temp</th>\n",
              "      <th>march_max_temp</th>\n",
              "      <th>april_min_temp</th>\n",
              "      <th>april_avg_temp</th>\n",
              "      <th>april_max_temp</th>\n",
              "      <th>may_min_temp</th>\n",
              "      <th>may_avg_temp</th>\n",
              "      <th>may_max_temp</th>\n",
              "      <th>june_min_temp</th>\n",
              "      <th>june_avg_temp</th>\n",
              "      <th>june_max_temp</th>\n",
              "      <th>july_min_temp</th>\n",
              "      <th>july_avg_temp</th>\n",
              "      <th>july_max_temp</th>\n",
              "      <th>august_min_temp</th>\n",
              "      <th>august_avg_temp</th>\n",
              "      <th>august_max_temp</th>\n",
              "      <th>september_min_temp</th>\n",
              "      <th>september_avg_temp</th>\n",
              "      <th>september_max_temp</th>\n",
              "      <th>october_min_temp</th>\n",
              "      <th>october_avg_temp</th>\n",
              "      <th>october_max_temp</th>\n",
              "      <th>november_min_temp</th>\n",
              "      <th>november_avg_temp</th>\n",
              "      <th>november_max_temp</th>\n",
              "      <th>december_min_temp</th>\n",
              "      <th>december_avg_temp</th>\n",
              "      <th>december_max_temp</th>\n",
              "      <th>cooling_degree_days</th>\n",
              "      <th>heating_degree_days</th>\n",
              "      <th>precipitation_inches</th>\n",
              "      <th>snowfall_inches</th>\n",
              "      <th>snowdepth_inches</th>\n",
              "      <th>avg_temp</th>\n",
              "      <th>days_below_30F</th>\n",
              "      <th>days_below_20F</th>\n",
              "      <th>days_below_10F</th>\n",
              "      <th>days_below_0F</th>\n",
              "      <th>days_above_80F</th>\n",
              "      <th>days_above_90F</th>\n",
              "      <th>days_above_100F</th>\n",
              "      <th>days_above_110F</th>\n",
              "      <th>direction_max_wind_speed</th>\n",
              "      <th>direction_peak_wind_speed</th>\n",
              "      <th>max_wind_speed</th>\n",
              "      <th>days_with_fog</th>\n",
              "      <th>site_eui</th>\n",
              "    </tr>\n",
              "    <tr>\n",
              "      <th>id</th>\n",
              "      <th></th>\n",
              "      <th></th>\n",
              "      <th></th>\n",
              "      <th></th>\n",
              "      <th></th>\n",
              "      <th></th>\n",
              "      <th></th>\n",
              "      <th></th>\n",
              "      <th></th>\n",
              "      <th></th>\n",
              "      <th></th>\n",
              "      <th></th>\n",
              "      <th></th>\n",
              "      <th></th>\n",
              "      <th></th>\n",
              "      <th></th>\n",
              "      <th></th>\n",
              "      <th></th>\n",
              "      <th></th>\n",
              "      <th></th>\n",
              "      <th></th>\n",
              "      <th></th>\n",
              "      <th></th>\n",
              "      <th></th>\n",
              "      <th></th>\n",
              "      <th></th>\n",
              "      <th></th>\n",
              "      <th></th>\n",
              "      <th></th>\n",
              "      <th></th>\n",
              "      <th></th>\n",
              "      <th></th>\n",
              "      <th></th>\n",
              "      <th></th>\n",
              "      <th></th>\n",
              "      <th></th>\n",
              "      <th></th>\n",
              "      <th></th>\n",
              "      <th></th>\n",
              "      <th></th>\n",
              "      <th></th>\n",
              "      <th></th>\n",
              "      <th></th>\n",
              "      <th></th>\n",
              "      <th></th>\n",
              "      <th></th>\n",
              "      <th></th>\n",
              "      <th></th>\n",
              "      <th></th>\n",
              "      <th></th>\n",
              "      <th></th>\n",
              "      <th></th>\n",
              "      <th></th>\n",
              "      <th></th>\n",
              "      <th></th>\n",
              "      <th></th>\n",
              "      <th></th>\n",
              "      <th></th>\n",
              "      <th></th>\n",
              "      <th></th>\n",
              "      <th></th>\n",
              "      <th></th>\n",
              "      <th></th>\n",
              "    </tr>\n",
              "  </thead>\n",
              "  <tbody>\n",
              "    <tr>\n",
              "      <th>32337</th>\n",
              "      <td>3</td>\n",
              "      <td>State_6</td>\n",
              "      <td>Residential</td>\n",
              "      <td>Multifamily_Uncategorized</td>\n",
              "      <td>51138.0</td>\n",
              "      <td>1930.0</td>\n",
              "      <td>NaN</td>\n",
              "      <td>42.7</td>\n",
              "      <td>11</td>\n",
              "      <td>35.080645</td>\n",
              "      <td>61</td>\n",
              "      <td>17</td>\n",
              "      <td>33.910714</td>\n",
              "      <td>55</td>\n",
              "      <td>27</td>\n",
              "      <td>40.145161</td>\n",
              "      <td>59</td>\n",
              "      <td>33</td>\n",
              "      <td>52.983333</td>\n",
              "      <td>82</td>\n",
              "      <td>42</td>\n",
              "      <td>62.790323</td>\n",
              "      <td>90</td>\n",
              "      <td>53</td>\n",
              "      <td>72.650000</td>\n",
              "      <td>92</td>\n",
              "      <td>64</td>\n",
              "      <td>79.838710</td>\n",
              "      <td>98</td>\n",
              "      <td>59</td>\n",
              "      <td>74.596774</td>\n",
              "      <td>90</td>\n",
              "      <td>47</td>\n",
              "      <td>67.866667</td>\n",
              "      <td>96</td>\n",
              "      <td>40</td>\n",
              "      <td>60.193548</td>\n",
              "      <td>86</td>\n",
              "      <td>23</td>\n",
              "      <td>45.250000</td>\n",
              "      <td>70</td>\n",
              "      <td>19</td>\n",
              "      <td>38.548387</td>\n",
              "      <td>71</td>\n",
              "      <td>1272</td>\n",
              "      <td>4670</td>\n",
              "      <td>46.32</td>\n",
              "      <td>29.6</td>\n",
              "      <td>64</td>\n",
              "      <td>55.449315</td>\n",
              "      <td>50</td>\n",
              "      <td>11</td>\n",
              "      <td>0</td>\n",
              "      <td>0</td>\n",
              "      <td>75</td>\n",
              "      <td>11</td>\n",
              "      <td>0</td>\n",
              "      <td>0</td>\n",
              "      <td>1.0</td>\n",
              "      <td>1.0</td>\n",
              "      <td>1.0</td>\n",
              "      <td>99.0</td>\n",
              "      <td>77.979178</td>\n",
              "    </tr>\n",
              "    <tr>\n",
              "      <th>38370</th>\n",
              "      <td>4</td>\n",
              "      <td>State_6</td>\n",
              "      <td>Commercial</td>\n",
              "      <td>Office_Uncategorized</td>\n",
              "      <td>528180.0</td>\n",
              "      <td>1981.0</td>\n",
              "      <td>27.0</td>\n",
              "      <td>42.7</td>\n",
              "      <td>4</td>\n",
              "      <td>28.596774</td>\n",
              "      <td>58</td>\n",
              "      <td>9</td>\n",
              "      <td>31.625000</td>\n",
              "      <td>56</td>\n",
              "      <td>13</td>\n",
              "      <td>37.661290</td>\n",
              "      <td>66</td>\n",
              "      <td>31</td>\n",
              "      <td>52.333333</td>\n",
              "      <td>77</td>\n",
              "      <td>49</td>\n",
              "      <td>64.000000</td>\n",
              "      <td>86</td>\n",
              "      <td>55</td>\n",
              "      <td>72.450000</td>\n",
              "      <td>89</td>\n",
              "      <td>63</td>\n",
              "      <td>76.145161</td>\n",
              "      <td>91</td>\n",
              "      <td>61</td>\n",
              "      <td>74.516129</td>\n",
              "      <td>90</td>\n",
              "      <td>52</td>\n",
              "      <td>69.733333</td>\n",
              "      <td>92</td>\n",
              "      <td>42</td>\n",
              "      <td>59.629032</td>\n",
              "      <td>77</td>\n",
              "      <td>22</td>\n",
              "      <td>45.300000</td>\n",
              "      <td>69</td>\n",
              "      <td>24</td>\n",
              "      <td>40.516129</td>\n",
              "      <td>65</td>\n",
              "      <td>1128</td>\n",
              "      <td>4875</td>\n",
              "      <td>53.79</td>\n",
              "      <td>50.0</td>\n",
              "      <td>377</td>\n",
              "      <td>54.501370</td>\n",
              "      <td>66</td>\n",
              "      <td>24</td>\n",
              "      <td>7</td>\n",
              "      <td>0</td>\n",
              "      <td>75</td>\n",
              "      <td>4</td>\n",
              "      <td>0</td>\n",
              "      <td>0</td>\n",
              "      <td>1.0</td>\n",
              "      <td>1.0</td>\n",
              "      <td>1.0</td>\n",
              "      <td>NaN</td>\n",
              "      <td>144.619629</td>\n",
              "    </tr>\n",
              "    <tr>\n",
              "      <th>51075</th>\n",
              "      <td>5</td>\n",
              "      <td>State_6</td>\n",
              "      <td>Residential</td>\n",
              "      <td>Multifamily_Uncategorized</td>\n",
              "      <td>57000.0</td>\n",
              "      <td>1910.0</td>\n",
              "      <td>14.0</td>\n",
              "      <td>21.3</td>\n",
              "      <td>8</td>\n",
              "      <td>29.854839</td>\n",
              "      <td>56</td>\n",
              "      <td>2</td>\n",
              "      <td>23.946429</td>\n",
              "      <td>43</td>\n",
              "      <td>12</td>\n",
              "      <td>38.096774</td>\n",
              "      <td>62</td>\n",
              "      <td>32</td>\n",
              "      <td>54.250000</td>\n",
              "      <td>80</td>\n",
              "      <td>48</td>\n",
              "      <td>68.516129</td>\n",
              "      <td>88</td>\n",
              "      <td>50</td>\n",
              "      <td>71.183333</td>\n",
              "      <td>90</td>\n",
              "      <td>64</td>\n",
              "      <td>78.790323</td>\n",
              "      <td>96</td>\n",
              "      <td>63</td>\n",
              "      <td>78.967742</td>\n",
              "      <td>95</td>\n",
              "      <td>56</td>\n",
              "      <td>74.450000</td>\n",
              "      <td>97</td>\n",
              "      <td>35</td>\n",
              "      <td>58.048387</td>\n",
              "      <td>78</td>\n",
              "      <td>32</td>\n",
              "      <td>52.783333</td>\n",
              "      <td>74</td>\n",
              "      <td>34</td>\n",
              "      <td>50.774194</td>\n",
              "      <td>72</td>\n",
              "      <td>1581</td>\n",
              "      <td>4460</td>\n",
              "      <td>40.97</td>\n",
              "      <td>49.1</td>\n",
              "      <td>463</td>\n",
              "      <td>56.835616</td>\n",
              "      <td>63</td>\n",
              "      <td>34</td>\n",
              "      <td>9</td>\n",
              "      <td>0</td>\n",
              "      <td>106</td>\n",
              "      <td>12</td>\n",
              "      <td>0</td>\n",
              "      <td>0</td>\n",
              "      <td>NaN</td>\n",
              "      <td>NaN</td>\n",
              "      <td>NaN</td>\n",
              "      <td>NaN</td>\n",
              "      <td>120.880115</td>\n",
              "    </tr>\n",
              "  </tbody>\n",
              "</table>\n",
              "</div>\n",
              "      <button class=\"colab-df-convert\" onclick=\"convertToInteractive('df-3145a855-e78c-4f03-8c74-3359a47a736a')\"\n",
              "              title=\"Convert this dataframe to an interactive table.\"\n",
              "              style=\"display:none;\">\n",
              "        \n",
              "  <svg xmlns=\"http://www.w3.org/2000/svg\" height=\"24px\"viewBox=\"0 0 24 24\"\n",
              "       width=\"24px\">\n",
              "    <path d=\"M0 0h24v24H0V0z\" fill=\"none\"/>\n",
              "    <path d=\"M18.56 5.44l.94 2.06.94-2.06 2.06-.94-2.06-.94-.94-2.06-.94 2.06-2.06.94zm-11 1L8.5 8.5l.94-2.06 2.06-.94-2.06-.94L8.5 2.5l-.94 2.06-2.06.94zm10 10l.94 2.06.94-2.06 2.06-.94-2.06-.94-.94-2.06-.94 2.06-2.06.94z\"/><path d=\"M17.41 7.96l-1.37-1.37c-.4-.4-.92-.59-1.43-.59-.52 0-1.04.2-1.43.59L10.3 9.45l-7.72 7.72c-.78.78-.78 2.05 0 2.83L4 21.41c.39.39.9.59 1.41.59.51 0 1.02-.2 1.41-.59l7.78-7.78 2.81-2.81c.8-.78.8-2.07 0-2.86zM5.41 20L4 18.59l7.72-7.72 1.47 1.35L5.41 20z\"/>\n",
              "  </svg>\n",
              "      </button>\n",
              "      \n",
              "  <style>\n",
              "    .colab-df-container {\n",
              "      display:flex;\n",
              "      flex-wrap:wrap;\n",
              "      gap: 12px;\n",
              "    }\n",
              "\n",
              "    .colab-df-convert {\n",
              "      background-color: #E8F0FE;\n",
              "      border: none;\n",
              "      border-radius: 50%;\n",
              "      cursor: pointer;\n",
              "      display: none;\n",
              "      fill: #1967D2;\n",
              "      height: 32px;\n",
              "      padding: 0 0 0 0;\n",
              "      width: 32px;\n",
              "    }\n",
              "\n",
              "    .colab-df-convert:hover {\n",
              "      background-color: #E2EBFA;\n",
              "      box-shadow: 0px 1px 2px rgba(60, 64, 67, 0.3), 0px 1px 3px 1px rgba(60, 64, 67, 0.15);\n",
              "      fill: #174EA6;\n",
              "    }\n",
              "\n",
              "    [theme=dark] .colab-df-convert {\n",
              "      background-color: #3B4455;\n",
              "      fill: #D2E3FC;\n",
              "    }\n",
              "\n",
              "    [theme=dark] .colab-df-convert:hover {\n",
              "      background-color: #434B5C;\n",
              "      box-shadow: 0px 1px 3px 1px rgba(0, 0, 0, 0.15);\n",
              "      filter: drop-shadow(0px 1px 2px rgba(0, 0, 0, 0.3));\n",
              "      fill: #FFFFFF;\n",
              "    }\n",
              "  </style>\n",
              "\n",
              "      <script>\n",
              "        const buttonEl =\n",
              "          document.querySelector('#df-3145a855-e78c-4f03-8c74-3359a47a736a button.colab-df-convert');\n",
              "        buttonEl.style.display =\n",
              "          google.colab.kernel.accessAllowed ? 'block' : 'none';\n",
              "\n",
              "        async function convertToInteractive(key) {\n",
              "          const element = document.querySelector('#df-3145a855-e78c-4f03-8c74-3359a47a736a');\n",
              "          const dataTable =\n",
              "            await google.colab.kernel.invokeFunction('convertToInteractive',\n",
              "                                                     [key], {});\n",
              "          if (!dataTable) return;\n",
              "\n",
              "          const docLinkHtml = 'Like what you see? Visit the ' +\n",
              "            '<a target=\"_blank\" href=https://colab.research.google.com/notebooks/data_table.ipynb>data table notebook</a>'\n",
              "            + ' to learn more about interactive tables.';\n",
              "          element.innerHTML = '';\n",
              "          dataTable['output_type'] = 'display_data';\n",
              "          await google.colab.output.renderOutput(dataTable, element);\n",
              "          const docLink = document.createElement('div');\n",
              "          docLink.innerHTML = docLinkHtml;\n",
              "          element.appendChild(docLink);\n",
              "        }\n",
              "      </script>\n",
              "    </div>\n",
              "  </div>\n",
              "  "
            ],
            "text/plain": [
              "       Year_Factor State_Factor  ... days_with_fog    site_eui\n",
              "id                               ...                          \n",
              "32337            3      State_6  ...          99.0   77.979178\n",
              "38370            4      State_6  ...           NaN  144.619629\n",
              "51075            5      State_6  ...           NaN  120.880115\n",
              "\n",
              "[3 rows x 63 columns]"
            ]
          },
          "metadata": {},
          "execution_count": 48
        }
      ]
    },
    {
      "cell_type": "markdown",
      "metadata": {
        "id": "Kbi-vSLOTuDD"
      },
      "source": [
        "## Data cleaning and preprocessing"
      ]
    },
    {
      "cell_type": "markdown",
      "source": [
        "Energy Star and Facility Type"
      ],
      "metadata": {
        "id": "xDGk_xCnGw6d"
      }
    },
    {
      "cell_type": "markdown",
      "source": [
        "### Missing and extreme values"
      ],
      "metadata": {
        "id": "Fc9NMFK2wg2a"
      }
    },
    {
      "cell_type": "code",
      "execution_count": null,
      "metadata": {
        "colab": {
          "base_uri": "https://localhost:8080/",
          "height": 239
        },
        "id": "RI3VolfUTuDD",
        "outputId": "951ebc60-ee6c-4814-b2e0-dc42c4be1261"
      },
      "outputs": [
        {
          "output_type": "execute_result",
          "data": {
            "text/html": [
              "\n",
              "  <div id=\"df-1c71811a-de8c-46d8-8131-d4ec643dca65\">\n",
              "    <div class=\"colab-df-container\">\n",
              "      <div>\n",
              "<style scoped>\n",
              "    .dataframe tbody tr th:only-of-type {\n",
              "        vertical-align: middle;\n",
              "    }\n",
              "\n",
              "    .dataframe tbody tr th {\n",
              "        vertical-align: top;\n",
              "    }\n",
              "\n",
              "    .dataframe thead th {\n",
              "        text-align: right;\n",
              "    }\n",
              "</style>\n",
              "<table border=\"1\" class=\"dataframe\">\n",
              "  <thead>\n",
              "    <tr style=\"text-align: right;\">\n",
              "      <th></th>\n",
              "      <th>Year_Factor</th>\n",
              "      <th>State_Factor</th>\n",
              "      <th>building_class</th>\n",
              "      <th>facility_type</th>\n",
              "      <th>floor_area</th>\n",
              "      <th>year_built</th>\n",
              "      <th>energy_star_rating</th>\n",
              "      <th>ELEVATION</th>\n",
              "      <th>january_min_temp</th>\n",
              "      <th>january_avg_temp</th>\n",
              "      <th>january_max_temp</th>\n",
              "      <th>february_min_temp</th>\n",
              "      <th>february_avg_temp</th>\n",
              "      <th>february_max_temp</th>\n",
              "      <th>march_min_temp</th>\n",
              "      <th>march_avg_temp</th>\n",
              "      <th>march_max_temp</th>\n",
              "      <th>april_min_temp</th>\n",
              "      <th>april_avg_temp</th>\n",
              "      <th>april_max_temp</th>\n",
              "      <th>may_min_temp</th>\n",
              "      <th>may_avg_temp</th>\n",
              "      <th>may_max_temp</th>\n",
              "      <th>june_min_temp</th>\n",
              "      <th>june_avg_temp</th>\n",
              "      <th>june_max_temp</th>\n",
              "      <th>july_min_temp</th>\n",
              "      <th>july_avg_temp</th>\n",
              "      <th>july_max_temp</th>\n",
              "      <th>august_min_temp</th>\n",
              "      <th>august_avg_temp</th>\n",
              "      <th>august_max_temp</th>\n",
              "      <th>september_min_temp</th>\n",
              "      <th>september_avg_temp</th>\n",
              "      <th>september_max_temp</th>\n",
              "      <th>october_min_temp</th>\n",
              "      <th>october_avg_temp</th>\n",
              "      <th>october_max_temp</th>\n",
              "      <th>november_min_temp</th>\n",
              "      <th>november_avg_temp</th>\n",
              "      <th>november_max_temp</th>\n",
              "      <th>december_min_temp</th>\n",
              "      <th>december_avg_temp</th>\n",
              "      <th>december_max_temp</th>\n",
              "      <th>cooling_degree_days</th>\n",
              "      <th>heating_degree_days</th>\n",
              "      <th>precipitation_inches</th>\n",
              "      <th>snowfall_inches</th>\n",
              "      <th>snowdepth_inches</th>\n",
              "      <th>avg_temp</th>\n",
              "      <th>days_below_30F</th>\n",
              "      <th>days_below_20F</th>\n",
              "      <th>days_below_10F</th>\n",
              "      <th>days_below_0F</th>\n",
              "      <th>days_above_80F</th>\n",
              "      <th>days_above_90F</th>\n",
              "      <th>days_above_100F</th>\n",
              "      <th>days_above_110F</th>\n",
              "      <th>direction_max_wind_speed</th>\n",
              "      <th>direction_peak_wind_speed</th>\n",
              "      <th>max_wind_speed</th>\n",
              "      <th>days_with_fog</th>\n",
              "      <th>site_eui</th>\n",
              "    </tr>\n",
              "    <tr>\n",
              "      <th>id</th>\n",
              "      <th></th>\n",
              "      <th></th>\n",
              "      <th></th>\n",
              "      <th></th>\n",
              "      <th></th>\n",
              "      <th></th>\n",
              "      <th></th>\n",
              "      <th></th>\n",
              "      <th></th>\n",
              "      <th></th>\n",
              "      <th></th>\n",
              "      <th></th>\n",
              "      <th></th>\n",
              "      <th></th>\n",
              "      <th></th>\n",
              "      <th></th>\n",
              "      <th></th>\n",
              "      <th></th>\n",
              "      <th></th>\n",
              "      <th></th>\n",
              "      <th></th>\n",
              "      <th></th>\n",
              "      <th></th>\n",
              "      <th></th>\n",
              "      <th></th>\n",
              "      <th></th>\n",
              "      <th></th>\n",
              "      <th></th>\n",
              "      <th></th>\n",
              "      <th></th>\n",
              "      <th></th>\n",
              "      <th></th>\n",
              "      <th></th>\n",
              "      <th></th>\n",
              "      <th></th>\n",
              "      <th></th>\n",
              "      <th></th>\n",
              "      <th></th>\n",
              "      <th></th>\n",
              "      <th></th>\n",
              "      <th></th>\n",
              "      <th></th>\n",
              "      <th></th>\n",
              "      <th></th>\n",
              "      <th></th>\n",
              "      <th></th>\n",
              "      <th></th>\n",
              "      <th></th>\n",
              "      <th></th>\n",
              "      <th></th>\n",
              "      <th></th>\n",
              "      <th></th>\n",
              "      <th></th>\n",
              "      <th></th>\n",
              "      <th></th>\n",
              "      <th></th>\n",
              "      <th></th>\n",
              "      <th></th>\n",
              "      <th></th>\n",
              "      <th></th>\n",
              "      <th></th>\n",
              "      <th></th>\n",
              "      <th></th>\n",
              "    </tr>\n",
              "  </thead>\n",
              "  <tbody>\n",
              "    <tr>\n",
              "      <th>45275</th>\n",
              "      <td>5</td>\n",
              "      <td>State_6</td>\n",
              "      <td>Residential</td>\n",
              "      <td>Multifamily_Uncategorized</td>\n",
              "      <td>100879.0</td>\n",
              "      <td>1985.0</td>\n",
              "      <td>NaN</td>\n",
              "      <td>15.2</td>\n",
              "      <td>8</td>\n",
              "      <td>29.854839</td>\n",
              "      <td>56</td>\n",
              "      <td>2</td>\n",
              "      <td>23.946429</td>\n",
              "      <td>43</td>\n",
              "      <td>12</td>\n",
              "      <td>38.096774</td>\n",
              "      <td>62</td>\n",
              "      <td>32</td>\n",
              "      <td>54.250000</td>\n",
              "      <td>80</td>\n",
              "      <td>48</td>\n",
              "      <td>68.516129</td>\n",
              "      <td>88</td>\n",
              "      <td>50</td>\n",
              "      <td>71.183333</td>\n",
              "      <td>90</td>\n",
              "      <td>64</td>\n",
              "      <td>78.790323</td>\n",
              "      <td>96</td>\n",
              "      <td>63</td>\n",
              "      <td>78.967742</td>\n",
              "      <td>95</td>\n",
              "      <td>56</td>\n",
              "      <td>74.450000</td>\n",
              "      <td>97</td>\n",
              "      <td>35</td>\n",
              "      <td>58.048387</td>\n",
              "      <td>78</td>\n",
              "      <td>32</td>\n",
              "      <td>52.783333</td>\n",
              "      <td>74</td>\n",
              "      <td>34</td>\n",
              "      <td>50.774194</td>\n",
              "      <td>72</td>\n",
              "      <td>1581</td>\n",
              "      <td>4460</td>\n",
              "      <td>40.97</td>\n",
              "      <td>49.1</td>\n",
              "      <td>463</td>\n",
              "      <td>56.835616</td>\n",
              "      <td>63</td>\n",
              "      <td>34</td>\n",
              "      <td>9</td>\n",
              "      <td>0</td>\n",
              "      <td>106</td>\n",
              "      <td>12</td>\n",
              "      <td>0</td>\n",
              "      <td>0</td>\n",
              "      <td>NaN</td>\n",
              "      <td>NaN</td>\n",
              "      <td>NaN</td>\n",
              "      <td>NaN</td>\n",
              "      <td>80.924531</td>\n",
              "    </tr>\n",
              "    <tr>\n",
              "      <th>48351</th>\n",
              "      <td>5</td>\n",
              "      <td>State_6</td>\n",
              "      <td>Commercial</td>\n",
              "      <td>Office_Uncategorized</td>\n",
              "      <td>65000.0</td>\n",
              "      <td>1918.0</td>\n",
              "      <td>22.0</td>\n",
              "      <td>21.3</td>\n",
              "      <td>8</td>\n",
              "      <td>29.854839</td>\n",
              "      <td>56</td>\n",
              "      <td>2</td>\n",
              "      <td>23.946429</td>\n",
              "      <td>43</td>\n",
              "      <td>12</td>\n",
              "      <td>38.096774</td>\n",
              "      <td>62</td>\n",
              "      <td>32</td>\n",
              "      <td>54.250000</td>\n",
              "      <td>80</td>\n",
              "      <td>48</td>\n",
              "      <td>68.516129</td>\n",
              "      <td>88</td>\n",
              "      <td>50</td>\n",
              "      <td>71.183333</td>\n",
              "      <td>90</td>\n",
              "      <td>64</td>\n",
              "      <td>78.790323</td>\n",
              "      <td>96</td>\n",
              "      <td>63</td>\n",
              "      <td>78.967742</td>\n",
              "      <td>95</td>\n",
              "      <td>56</td>\n",
              "      <td>74.450000</td>\n",
              "      <td>97</td>\n",
              "      <td>35</td>\n",
              "      <td>58.048387</td>\n",
              "      <td>78</td>\n",
              "      <td>32</td>\n",
              "      <td>52.783333</td>\n",
              "      <td>74</td>\n",
              "      <td>34</td>\n",
              "      <td>50.774194</td>\n",
              "      <td>72</td>\n",
              "      <td>1581</td>\n",
              "      <td>4460</td>\n",
              "      <td>40.97</td>\n",
              "      <td>49.1</td>\n",
              "      <td>463</td>\n",
              "      <td>56.835616</td>\n",
              "      <td>63</td>\n",
              "      <td>34</td>\n",
              "      <td>9</td>\n",
              "      <td>0</td>\n",
              "      <td>106</td>\n",
              "      <td>12</td>\n",
              "      <td>0</td>\n",
              "      <td>0</td>\n",
              "      <td>NaN</td>\n",
              "      <td>NaN</td>\n",
              "      <td>NaN</td>\n",
              "      <td>NaN</td>\n",
              "      <td>78.090945</td>\n",
              "    </tr>\n",
              "    <tr>\n",
              "      <th>27983</th>\n",
              "      <td>3</td>\n",
              "      <td>State_6</td>\n",
              "      <td>Commercial</td>\n",
              "      <td>Office_Uncategorized</td>\n",
              "      <td>135000.0</td>\n",
              "      <td>1896.0</td>\n",
              "      <td>83.0</td>\n",
              "      <td>15.2</td>\n",
              "      <td>11</td>\n",
              "      <td>35.080645</td>\n",
              "      <td>61</td>\n",
              "      <td>17</td>\n",
              "      <td>33.910714</td>\n",
              "      <td>55</td>\n",
              "      <td>27</td>\n",
              "      <td>40.145161</td>\n",
              "      <td>59</td>\n",
              "      <td>33</td>\n",
              "      <td>52.983333</td>\n",
              "      <td>82</td>\n",
              "      <td>42</td>\n",
              "      <td>62.790323</td>\n",
              "      <td>90</td>\n",
              "      <td>53</td>\n",
              "      <td>72.650000</td>\n",
              "      <td>92</td>\n",
              "      <td>64</td>\n",
              "      <td>79.838710</td>\n",
              "      <td>98</td>\n",
              "      <td>59</td>\n",
              "      <td>74.596774</td>\n",
              "      <td>90</td>\n",
              "      <td>47</td>\n",
              "      <td>67.866667</td>\n",
              "      <td>96</td>\n",
              "      <td>40</td>\n",
              "      <td>60.193548</td>\n",
              "      <td>86</td>\n",
              "      <td>23</td>\n",
              "      <td>45.250000</td>\n",
              "      <td>70</td>\n",
              "      <td>19</td>\n",
              "      <td>38.548387</td>\n",
              "      <td>71</td>\n",
              "      <td>1272</td>\n",
              "      <td>4670</td>\n",
              "      <td>46.32</td>\n",
              "      <td>29.6</td>\n",
              "      <td>64</td>\n",
              "      <td>55.449315</td>\n",
              "      <td>50</td>\n",
              "      <td>11</td>\n",
              "      <td>0</td>\n",
              "      <td>0</td>\n",
              "      <td>75</td>\n",
              "      <td>11</td>\n",
              "      <td>0</td>\n",
              "      <td>0</td>\n",
              "      <td>NaN</td>\n",
              "      <td>NaN</td>\n",
              "      <td>NaN</td>\n",
              "      <td>NaN</td>\n",
              "      <td>147.348108</td>\n",
              "    </tr>\n",
              "  </tbody>\n",
              "</table>\n",
              "</div>\n",
              "      <button class=\"colab-df-convert\" onclick=\"convertToInteractive('df-1c71811a-de8c-46d8-8131-d4ec643dca65')\"\n",
              "              title=\"Convert this dataframe to an interactive table.\"\n",
              "              style=\"display:none;\">\n",
              "        \n",
              "  <svg xmlns=\"http://www.w3.org/2000/svg\" height=\"24px\"viewBox=\"0 0 24 24\"\n",
              "       width=\"24px\">\n",
              "    <path d=\"M0 0h24v24H0V0z\" fill=\"none\"/>\n",
              "    <path d=\"M18.56 5.44l.94 2.06.94-2.06 2.06-.94-2.06-.94-.94-2.06-.94 2.06-2.06.94zm-11 1L8.5 8.5l.94-2.06 2.06-.94-2.06-.94L8.5 2.5l-.94 2.06-2.06.94zm10 10l.94 2.06.94-2.06 2.06-.94-2.06-.94-.94-2.06-.94 2.06-2.06.94z\"/><path d=\"M17.41 7.96l-1.37-1.37c-.4-.4-.92-.59-1.43-.59-.52 0-1.04.2-1.43.59L10.3 9.45l-7.72 7.72c-.78.78-.78 2.05 0 2.83L4 21.41c.39.39.9.59 1.41.59.51 0 1.02-.2 1.41-.59l7.78-7.78 2.81-2.81c.8-.78.8-2.07 0-2.86zM5.41 20L4 18.59l7.72-7.72 1.47 1.35L5.41 20z\"/>\n",
              "  </svg>\n",
              "      </button>\n",
              "      \n",
              "  <style>\n",
              "    .colab-df-container {\n",
              "      display:flex;\n",
              "      flex-wrap:wrap;\n",
              "      gap: 12px;\n",
              "    }\n",
              "\n",
              "    .colab-df-convert {\n",
              "      background-color: #E8F0FE;\n",
              "      border: none;\n",
              "      border-radius: 50%;\n",
              "      cursor: pointer;\n",
              "      display: none;\n",
              "      fill: #1967D2;\n",
              "      height: 32px;\n",
              "      padding: 0 0 0 0;\n",
              "      width: 32px;\n",
              "    }\n",
              "\n",
              "    .colab-df-convert:hover {\n",
              "      background-color: #E2EBFA;\n",
              "      box-shadow: 0px 1px 2px rgba(60, 64, 67, 0.3), 0px 1px 3px 1px rgba(60, 64, 67, 0.15);\n",
              "      fill: #174EA6;\n",
              "    }\n",
              "\n",
              "    [theme=dark] .colab-df-convert {\n",
              "      background-color: #3B4455;\n",
              "      fill: #D2E3FC;\n",
              "    }\n",
              "\n",
              "    [theme=dark] .colab-df-convert:hover {\n",
              "      background-color: #434B5C;\n",
              "      box-shadow: 0px 1px 3px 1px rgba(0, 0, 0, 0.15);\n",
              "      filter: drop-shadow(0px 1px 2px rgba(0, 0, 0, 0.3));\n",
              "      fill: #FFFFFF;\n",
              "    }\n",
              "  </style>\n",
              "\n",
              "      <script>\n",
              "        const buttonEl =\n",
              "          document.querySelector('#df-1c71811a-de8c-46d8-8131-d4ec643dca65 button.colab-df-convert');\n",
              "        buttonEl.style.display =\n",
              "          google.colab.kernel.accessAllowed ? 'block' : 'none';\n",
              "\n",
              "        async function convertToInteractive(key) {\n",
              "          const element = document.querySelector('#df-1c71811a-de8c-46d8-8131-d4ec643dca65');\n",
              "          const dataTable =\n",
              "            await google.colab.kernel.invokeFunction('convertToInteractive',\n",
              "                                                     [key], {});\n",
              "          if (!dataTable) return;\n",
              "\n",
              "          const docLinkHtml = 'Like what you see? Visit the ' +\n",
              "            '<a target=\"_blank\" href=https://colab.research.google.com/notebooks/data_table.ipynb>data table notebook</a>'\n",
              "            + ' to learn more about interactive tables.';\n",
              "          element.innerHTML = '';\n",
              "          dataTable['output_type'] = 'display_data';\n",
              "          await google.colab.output.renderOutput(dataTable, element);\n",
              "          const docLink = document.createElement('div');\n",
              "          docLink.innerHTML = docLinkHtml;\n",
              "          element.appendChild(docLink);\n",
              "        }\n",
              "      </script>\n",
              "    </div>\n",
              "  </div>\n",
              "  "
            ],
            "text/plain": [
              "       Year_Factor State_Factor  ... days_with_fog    site_eui\n",
              "id                               ...                          \n",
              "45275            5      State_6  ...           NaN   80.924531\n",
              "48351            5      State_6  ...           NaN   78.090945\n",
              "27983            3      State_6  ...           NaN  147.348108\n",
              "\n",
              "[3 rows x 63 columns]"
            ]
          },
          "metadata": {},
          "execution_count": 49
        }
      ],
      "source": [
        "climate_copy = climate_train.copy(deep = True)\n",
        "climate_copy.sample(3)"
      ]
    },
    {
      "cell_type": "markdown",
      "source": [
        "Drop features with significant amount of missing values"
      ],
      "metadata": {
        "id": "bX3VaX7m2Kla"
      }
    },
    {
      "cell_type": "code",
      "source": [
        "# Drop features with siginificant amount of missing values\n",
        "climate_clean = climate_copy.drop(columns=['direction_max_wind_speed', 'direction_peak_wind_speed', 'max_wind_speed', 'days_with_fog'])"
      ],
      "metadata": {
        "id": "w22Rvf_uvC1C"
      },
      "execution_count": null,
      "outputs": []
    },
    {
      "cell_type": "markdown",
      "source": [
        "Drop rows where year_built is 0"
      ],
      "metadata": {
        "id": "8cs08xAW2UPC"
      }
    },
    {
      "cell_type": "code",
      "source": [
        "# year_built 0 rows - drop (treat as NaN)\n",
        "len(climate_clean.loc[climate_clean['year_built'] == 0])"
      ],
      "metadata": {
        "colab": {
          "base_uri": "https://localhost:8080/"
        },
        "id": "zYVpDQKHw-nm",
        "outputId": "85ddebf5-a19c-4a6b-9899-127f51d39bd7"
      },
      "execution_count": null,
      "outputs": [
        {
          "output_type": "execute_result",
          "data": {
            "text/plain": [
              "6"
            ]
          },
          "metadata": {},
          "execution_count": 51
        }
      ]
    },
    {
      "cell_type": "code",
      "source": [
        "climate_clean = climate_clean[climate_clean.year_built != 0]\n",
        "# climate_clean[climate_clean.year_built == 0]"
      ],
      "metadata": {
        "id": "Q2ex5MnDzcSr"
      },
      "execution_count": null,
      "outputs": []
    },
    {
      "cell_type": "markdown",
      "source": [
        "### TODO: impute energy_star_rating missing values\n",
        "Formula or predict values with ML - trade off of less data vs prediction on top of prediction\n",
        "\n",
        "Baseline: dropped rows with missing values\n",
        "\n",
        "2nd Attempt: impute with mean"
      ],
      "metadata": {
        "id": "m7DTTAKvIYHq"
      }
    },
    {
      "cell_type": "code",
      "source": [
        "# Rows in dataset - 75k\n",
        "print(len(climate_clean.index))"
      ],
      "metadata": {
        "colab": {
          "base_uri": "https://localhost:8080/"
        },
        "id": "PRDTXFO21Nqn",
        "outputId": "088982eb-3c3c-4a11-dbe4-96180ca16e55"
      },
      "execution_count": null,
      "outputs": [
        {
          "output_type": "stream",
          "name": "stdout",
          "text": [
            "75751\n"
          ]
        }
      ]
    },
    {
      "cell_type": "code",
      "source": [
        "#  Missing values in energy_star_rating - 26k\n",
        "climate_clean['energy_star_rating'].isna().sum()"
      ],
      "metadata": {
        "id": "l-HTLvMr0VjT",
        "colab": {
          "base_uri": "https://localhost:8080/"
        },
        "outputId": "66b1a895-bdc3-4015-d363-e8a40fcbf09b"
      },
      "execution_count": null,
      "outputs": [
        {
          "output_type": "execute_result",
          "data": {
            "text/plain": [
              "26709"
            ]
          },
          "metadata": {},
          "execution_count": 54
        }
      ]
    },
    {
      "cell_type": "code",
      "source": [
        "#  Missing values in year_built - 2k\n",
        "climate_clean['year_built'].isna().sum()"
      ],
      "metadata": {
        "colab": {
          "base_uri": "https://localhost:8080/"
        },
        "id": "eOeFCSePIOOD",
        "outputId": "7f10418a-4bc6-4737-870a-23d6761c0a46"
      },
      "execution_count": null,
      "outputs": [
        {
          "output_type": "execute_result",
          "data": {
            "text/plain": [
              "1837"
            ]
          },
          "metadata": {},
          "execution_count": 55
        }
      ]
    },
    {
      "cell_type": "code",
      "source": [
        "from sklearn.impute import SimpleImputer\n",
        "imputer = SimpleImputer(strategy='mean', missing_values=np.nan)\n",
        "imputer = imputer.fit(climate_clean[['energy_star_rating']])\n",
        "climate_clean['energy_star_rating'] = imputer.transform(climate_clean[['energy_star_rating']])"
      ],
      "metadata": {
        "id": "xyjuBs3JIzWN",
        "colab": {
          "base_uri": "https://localhost:8080/"
        },
        "outputId": "921deb6d-b71e-4b2e-8113-4a5f9410cc17"
      },
      "execution_count": null,
      "outputs": [
        {
          "output_type": "stream",
          "name": "stderr",
          "text": [
            "/usr/local/lib/python3.7/dist-packages/ipykernel_launcher.py:4: SettingWithCopyWarning: \n",
            "A value is trying to be set on a copy of a slice from a DataFrame.\n",
            "Try using .loc[row_indexer,col_indexer] = value instead\n",
            "\n",
            "See the caveats in the documentation: https://pandas.pydata.org/pandas-docs/stable/user_guide/indexing.html#returning-a-view-versus-a-copy\n",
            "  after removing the cwd from sys.path.\n"
          ]
        }
      ]
    },
    {
      "cell_type": "code",
      "execution_count": null,
      "metadata": {
        "id": "phCQZ9PBTuDE"
      },
      "outputs": [],
      "source": [
        "# Drop missing values for year_built (TODO)\n",
        "climate_clean = climate_clean.dropna()"
      ]
    },
    {
      "cell_type": "code",
      "source": [
        "#climate_clean.isna().sum()"
      ],
      "metadata": {
        "id": "SKdUPCAv1315"
      },
      "execution_count": null,
      "outputs": []
    },
    {
      "cell_type": "code",
      "source": [
        "print(len(climate_clean.index))"
      ],
      "metadata": {
        "colab": {
          "base_uri": "https://localhost:8080/"
        },
        "id": "ZkQGXGhL2EmR",
        "outputId": "df542534-9292-452a-fc07-d60287137d05"
      },
      "execution_count": null,
      "outputs": [
        {
          "output_type": "stream",
          "name": "stdout",
          "text": [
            "73914\n"
          ]
        }
      ]
    },
    {
      "cell_type": "markdown",
      "source": [
        "### Categorical -> numerical"
      ],
      "metadata": {
        "id": "gOiJuRq_wqyJ"
      }
    },
    {
      "cell_type": "markdown",
      "source": [
        "Baseline: one hot encode facility_type\n",
        "\n",
        "2nd attempt: label encode\n",
        "\n",
        "3rd attempt: cluster into fewer groups"
      ],
      "metadata": {
        "id": "ZCBnPBxYNGrn"
      }
    },
    {
      "cell_type": "markdown",
      "source": [
        "Categorical columns: State_Factor, building_class, facility_type"
      ],
      "metadata": {
        "id": "hh_Fqvdw3Cl7"
      }
    },
    {
      "cell_type": "code",
      "source": [
        "climate_clean['facility_type'].nunique()"
      ],
      "metadata": {
        "colab": {
          "base_uri": "https://localhost:8080/"
        },
        "id": "UIybF4ZWytAD",
        "outputId": "741dfa70-631d-4a1f-eacd-1b3f40d897e2"
      },
      "execution_count": null,
      "outputs": [
        {
          "output_type": "execute_result",
          "data": {
            "text/plain": [
              "60"
            ]
          },
          "metadata": {},
          "execution_count": 60
        }
      ]
    },
    {
      "cell_type": "code",
      "execution_count": null,
      "metadata": {
        "colab": {
          "base_uri": "https://localhost:8080/"
        },
        "id": "BuoGUZdpTuDE",
        "outputId": "a4b21139-3d0a-47b2-dd5a-c9a712048455"
      },
      "outputs": [
        {
          "output_type": "execute_result",
          "data": {
            "text/plain": [
              "count       73914\n",
              "unique          7\n",
              "top       State_6\n",
              "freq        50007\n",
              "Name: State_Factor, dtype: object"
            ]
          },
          "metadata": {},
          "execution_count": 61
        }
      ],
      "source": [
        "# Categorical columns: 'State_Factor', 'building_class', 'facility_type'\n",
        "climate_clean.State_Factor.describe()"
      ]
    },
    {
      "cell_type": "code",
      "execution_count": null,
      "metadata": {
        "colab": {
          "base_uri": "https://localhost:8080/"
        },
        "id": "WgrNCDPoTuDF",
        "outputId": "50bc3d4a-f35e-40df-9943-45d5188ea7be"
      },
      "outputs": [
        {
          "output_type": "execute_result",
          "data": {
            "text/plain": [
              "id\n",
              "68744    State_8\n",
              "25038    State_6\n",
              "43180    State_6\n",
              "Name: State_Factor, dtype: object"
            ]
          },
          "metadata": {},
          "execution_count": 62
        }
      ],
      "source": [
        "climate_clean.State_Factor.sample(3)"
      ]
    },
    {
      "cell_type": "code",
      "execution_count": null,
      "metadata": {
        "colab": {
          "base_uri": "https://localhost:8080/"
        },
        "id": "Io3M9_lSTuDF",
        "outputId": "f97380b1-f2a4-43b1-a4e1-b2f2ad8c60f4"
      },
      "outputs": [
        {
          "output_type": "execute_result",
          "data": {
            "text/plain": [
              "count           73914\n",
              "unique              2\n",
              "top       Residential\n",
              "freq            43150\n",
              "Name: building_class, dtype: object"
            ]
          },
          "metadata": {},
          "execution_count": 63
        }
      ],
      "source": [
        "climate_clean.building_class.describe()"
      ]
    },
    {
      "cell_type": "code",
      "execution_count": null,
      "metadata": {
        "colab": {
          "base_uri": "https://localhost:8080/"
        },
        "id": "_qiz3VqGTuDF",
        "outputId": "3b9daf1c-cf9d-419b-9e40-d70ed51a7c31"
      },
      "outputs": [
        {
          "output_type": "execute_result",
          "data": {
            "text/plain": [
              "id\n",
              "6175     Residential\n",
              "57555    Residential\n",
              "68341    Residential\n",
              "Name: building_class, dtype: object"
            ]
          },
          "metadata": {},
          "execution_count": 64
        }
      ],
      "source": [
        "climate_clean.building_class.sample(3)"
      ]
    },
    {
      "cell_type": "code",
      "execution_count": null,
      "metadata": {
        "colab": {
          "base_uri": "https://localhost:8080/"
        },
        "id": "B4qXFqJwTuDF",
        "outputId": "0062513a-b238-4f38-bdb1-794493f93d80"
      },
      "outputs": [
        {
          "output_type": "execute_result",
          "data": {
            "text/plain": [
              "count                         73914\n",
              "unique                           60\n",
              "top       Multifamily_Uncategorized\n",
              "freq                          39072\n",
              "Name: facility_type, dtype: object"
            ]
          },
          "metadata": {},
          "execution_count": 65
        }
      ],
      "source": [
        "climate_clean.facility_type.describe()"
      ]
    },
    {
      "cell_type": "code",
      "execution_count": null,
      "metadata": {
        "colab": {
          "base_uri": "https://localhost:8080/"
        },
        "id": "IIJ8pPzbTuDG",
        "outputId": "51b9c5b7-53c8-448b-8c72-cc8a87b65a06"
      },
      "outputs": [
        {
          "output_type": "execute_result",
          "data": {
            "text/plain": [
              "id\n",
              "31906             Multifamily_Uncategorized\n",
              "2671     Mixed_Use_Predominantly_Commercial\n",
              "64681             Multifamily_Uncategorized\n",
              "Name: facility_type, dtype: object"
            ]
          },
          "metadata": {},
          "execution_count": 66
        }
      ],
      "source": [
        "climate_clean.facility_type.sample(3)"
      ]
    },
    {
      "cell_type": "code",
      "source": [
        "climate_clean.cooling_degree_days.describe()"
      ],
      "metadata": {
        "colab": {
          "base_uri": "https://localhost:8080/"
        },
        "id": "hERIhQigw9FO",
        "outputId": "605b9f9b-9e09-4b3c-cdb1-7f182ff072ab"
      },
      "execution_count": null,
      "outputs": [
        {
          "output_type": "execute_result",
          "data": {
            "text/plain": [
              "count    73914.000000\n",
              "mean      1201.973402\n",
              "std        385.793403\n",
              "min         55.000000\n",
              "25%       1128.000000\n",
              "50%       1277.000000\n",
              "75%       1489.000000\n",
              "max       1999.000000\n",
              "Name: cooling_degree_days, dtype: float64"
            ]
          },
          "metadata": {},
          "execution_count": 67
        }
      ]
    },
    {
      "cell_type": "markdown",
      "source": [
        "* State_Factor -> dummy\n",
        "*building_class -> dummy\n",
        "* facility_type -> dummy (for now) -> label encode later\n",
        "* Year_Factor -> dummy (assumption: order not kept)"
      ],
      "metadata": {
        "id": "0sxpwXS53SJi"
      }
    },
    {
      "cell_type": "code",
      "execution_count": null,
      "metadata": {
        "id": "9m1d_OC3TuDG"
      },
      "outputs": [],
      "source": [
        "# Make 4 nominal categorical variables into dummy variables (one-hot encoding)\n",
        "climate_n = pd.get_dummies(climate_clean, columns = ['State_Factor', 'building_class', 'facility_type', 'Year_Factor'])"
      ]
    },
    {
      "cell_type": "code",
      "source": [
        "# Label encode facility_type\n",
        "# from sklearn.preprocessing import LabelEncoder\n",
        "# labelencoder = LabelEncoder()\n",
        "# climate_n['facility_type'] = labelencoder.fit_transform(climate_n['facility_type'])\n",
        "# climate_n['facility_type'].sample(3)"
      ],
      "metadata": {
        "id": "0MYnAWteNe1M"
      },
      "execution_count": null,
      "outputs": []
    },
    {
      "cell_type": "code",
      "source": [
        "print(climate_n.shape) # Expect (63 - 4) + (41 + 2 + 7 + 6 - 4) = 111 ?"
      ],
      "metadata": {
        "colab": {
          "base_uri": "https://localhost:8080/"
        },
        "id": "cJf0BtLN5yFZ",
        "outputId": "86675947-6d9a-4d17-b087-c1ccb0372c81"
      },
      "execution_count": null,
      "outputs": [
        {
          "output_type": "stream",
          "name": "stdout",
          "text": [
            "(73914, 130)\n"
          ]
        }
      ]
    },
    {
      "cell_type": "code",
      "source": [
        "print(list(climate_n.columns))"
      ],
      "metadata": {
        "colab": {
          "base_uri": "https://localhost:8080/"
        },
        "id": "s3fgKjd_6zWo",
        "outputId": "9808faf7-2cae-4075-d0be-a7f06b2f3c2b"
      },
      "execution_count": null,
      "outputs": [
        {
          "output_type": "stream",
          "name": "stdout",
          "text": [
            "['floor_area', 'year_built', 'energy_star_rating', 'ELEVATION', 'january_min_temp', 'january_avg_temp', 'january_max_temp', 'february_min_temp', 'february_avg_temp', 'february_max_temp', 'march_min_temp', 'march_avg_temp', 'march_max_temp', 'april_min_temp', 'april_avg_temp', 'april_max_temp', 'may_min_temp', 'may_avg_temp', 'may_max_temp', 'june_min_temp', 'june_avg_temp', 'june_max_temp', 'july_min_temp', 'july_avg_temp', 'july_max_temp', 'august_min_temp', 'august_avg_temp', 'august_max_temp', 'september_min_temp', 'september_avg_temp', 'september_max_temp', 'october_min_temp', 'october_avg_temp', 'october_max_temp', 'november_min_temp', 'november_avg_temp', 'november_max_temp', 'december_min_temp', 'december_avg_temp', 'december_max_temp', 'cooling_degree_days', 'heating_degree_days', 'precipitation_inches', 'snowfall_inches', 'snowdepth_inches', 'avg_temp', 'days_below_30F', 'days_below_20F', 'days_below_10F', 'days_below_0F', 'days_above_80F', 'days_above_90F', 'days_above_100F', 'days_above_110F', 'site_eui', 'State_Factor_State_1', 'State_Factor_State_10', 'State_Factor_State_11', 'State_Factor_State_2', 'State_Factor_State_4', 'State_Factor_State_6', 'State_Factor_State_8', 'building_class_Commercial', 'building_class_Residential', 'facility_type_2to4_Unit_Building', 'facility_type_5plus_Unit_Building', 'facility_type_Commercial_Other', 'facility_type_Commercial_Unknown', 'facility_type_Data_Center', 'facility_type_Education_College_or_university', 'facility_type_Education_Other_classroom', 'facility_type_Education_Preschool_or_daycare', 'facility_type_Education_Uncategorized', 'facility_type_Food_Sales', 'facility_type_Food_Service_Other', 'facility_type_Food_Service_Restaurant_or_cafeteria', 'facility_type_Food_Service_Uncategorized', 'facility_type_Grocery_store_or_food_market', 'facility_type_Health_Care_Inpatient', 'facility_type_Health_Care_Outpatient_Clinic', 'facility_type_Health_Care_Outpatient_Uncategorized', 'facility_type_Health_Care_Uncategorized', 'facility_type_Industrial', 'facility_type_Laboratory', 'facility_type_Lodging_Dormitory_or_fraternity_sorority', 'facility_type_Lodging_Hotel', 'facility_type_Lodging_Other', 'facility_type_Lodging_Uncategorized', 'facility_type_Mixed_Use_Commercial_and_Residential', 'facility_type_Mixed_Use_Predominantly_Commercial', 'facility_type_Mixed_Use_Predominantly_Residential', 'facility_type_Multifamily_Uncategorized', 'facility_type_Nursing_Home', 'facility_type_Office_Bank_or_other_financial', 'facility_type_Office_Medical_non_diagnostic', 'facility_type_Office_Mixed_use', 'facility_type_Office_Uncategorized', 'facility_type_Parking_Garage', 'facility_type_Public_Assembly_Drama_theater', 'facility_type_Public_Assembly_Entertainment_culture', 'facility_type_Public_Assembly_Library', 'facility_type_Public_Assembly_Movie_Theater', 'facility_type_Public_Assembly_Other', 'facility_type_Public_Assembly_Recreation', 'facility_type_Public_Assembly_Social_meeting', 'facility_type_Public_Assembly_Stadium', 'facility_type_Public_Assembly_Uncategorized', 'facility_type_Public_Safety_Courthouse', 'facility_type_Public_Safety_Fire_or_police_station', 'facility_type_Public_Safety_Penitentiary', 'facility_type_Public_Safety_Uncategorized', 'facility_type_Religious_worship', 'facility_type_Retail_Enclosed_mall', 'facility_type_Retail_Strip_shopping_mall', 'facility_type_Retail_Uncategorized', 'facility_type_Retail_Vehicle_dealership_showroom', 'facility_type_Service_Drycleaning_or_Laundry', 'facility_type_Service_Uncategorized', 'facility_type_Service_Vehicle_service_repair_shop', 'facility_type_Warehouse_Distribution_or_Shipping_center', 'facility_type_Warehouse_Nonrefrigerated', 'facility_type_Warehouse_Refrigerated', 'facility_type_Warehouse_Selfstorage', 'facility_type_Warehouse_Uncategorized', 'Year_Factor_1', 'Year_Factor_2', 'Year_Factor_3', 'Year_Factor_4', 'Year_Factor_5', 'Year_Factor_6']\n"
          ]
        }
      ]
    },
    {
      "cell_type": "code",
      "source": [
        "# TODO: label encode facility_type (think of numeric encoding that keeps groupings and makes sense as numbers distance-wise)\n",
        "# Make groupings with clustering for fewer unique types"
      ],
      "metadata": {
        "id": "eRccC7sf32x3"
      },
      "execution_count": null,
      "outputs": []
    },
    {
      "cell_type": "markdown",
      "source": [
        "### Output"
      ],
      "metadata": {
        "id": "01Qi7A9LZuUs"
      }
    },
    {
      "cell_type": "code",
      "source": [
        "# Export clean + preprocessed csv (climate_n)\n",
        "climate_n.to_csv('./train_clean_2.csv')"
      ],
      "metadata": {
        "id": "ZmvOGDPVZjfo"
      },
      "execution_count": null,
      "outputs": []
    }
  ],
  "metadata": {
    "colab": {
      "collapsed_sections": [],
      "name": "2_Data_Cleaning_and_Preprocessing.ipynb",
      "provenance": []
    },
    "kernelspec": {
      "display_name": "Python 3",
      "language": "python",
      "name": "python3"
    },
    "language_info": {
      "codemirror_mode": {
        "name": "ipython",
        "version": 3
      },
      "file_extension": ".py",
      "mimetype": "text/x-python",
      "name": "python",
      "nbconvert_exporter": "python",
      "pygments_lexer": "ipython3",
      "version": "3.7.12"
    }
  },
  "nbformat": 4,
  "nbformat_minor": 0
}