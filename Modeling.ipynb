{
  "nbformat": 4,
  "nbformat_minor": 0,
  "metadata": {
    "colab": {
      "name": "Modeling.ipynb",
      "provenance": [],
      "collapsed_sections": [
        "auccBU5E0GfZ",
        "WbuvPGsI6h9g",
        "uppw8hNL0MH0",
        "7Yde9GayBd-G",
        "AMLWIUyfNb2r",
        "R0uVJt79N8Vh"
      ]
    },
    "kernelspec": {
      "name": "python3",
      "display_name": "Python 3"
    },
    "language_info": {
      "name": "python"
    }
  },
  "cells": [
    {
      "cell_type": "markdown",
      "source": [
        "### Setup"
      ],
      "metadata": {
        "id": "auccBU5E0GfZ"
      }
    },
    {
      "cell_type": "code",
      "source": [
        "from google.colab import drive\n",
        "#drive.flush_and_unmount()\n",
        "drive.mount('/content/drive')"
      ],
      "metadata": {
        "colab": {
          "base_uri": "https://localhost:8080/"
        },
        "id": "lEyb20sW5n0_",
        "outputId": "5107241e-adf7-4241-c4d2-c498432c1caa"
      },
      "execution_count": null,
      "outputs": [
        {
          "output_type": "stream",
          "name": "stdout",
          "text": [
            "Drive already mounted at /content/drive; to attempt to forcibly remount, call drive.mount(\"/content/drive\", force_remount=True).\n"
          ]
        }
      ]
    },
    {
      "cell_type": "code",
      "source": [
        "import pandas as pd\n",
        "import numpy as np\n",
        "import seaborn as sns\n",
        "import matplotlib.pyplot as plt\n",
        "pd.options.display.float_format = '{:.2f}'.format"
      ],
      "metadata": {
        "id": "5x4r8Eav51FL"
      },
      "execution_count": null,
      "outputs": []
    },
    {
      "cell_type": "code",
      "source": [
        "climate = pd.read_csv(\"./drive/MyDrive/Colaboratory Notebooks/WiDS22_Climate_Change/Data/train_reduce.csv\")\n",
        "climate = climate.set_index(\"id\")\n",
        "climate.shape"
      ],
      "metadata": {
        "colab": {
          "base_uri": "https://localhost:8080/"
        },
        "id": "SyoVW0aY54c7",
        "outputId": "e1731b1a-ced1-46d9-8a25-da663450896a"
      },
      "execution_count": null,
      "outputs": [
        {
          "output_type": "execute_result",
          "data": {
            "text/plain": [
              "(48439, 73)"
            ]
          },
          "metadata": {},
          "execution_count": 260
        }
      ]
    },
    {
      "cell_type": "markdown",
      "source": [
        "# Models\n",
        "**Predicting a continuous value**"
      ],
      "metadata": {
        "id": "WbuvPGsI6h9g"
      }
    },
    {
      "cell_type": "markdown",
      "source": [
        "- Models that only allow numeric data, allow both numeric and categorical data, only allows categorical data\n",
        "- Run multiple types of models at once and get score\n",
        "- Ensemble models\n",
        "- Hyperparemeter tuning\n",
        "- CV selection for training and testing set\n",
        "- Boosting\n",
        "- Change: parameters, features, re-process\n",
        "- Features as parameter tuning\n",
        "- Feature selection algorithms\n",
        "- Try model with the principle components as features, set variance -> number of components"
      ],
      "metadata": {
        "id": "Ur_6Fpch09wR"
      }
    },
    {
      "cell_type": "markdown",
      "source": [
        "# Linear Regression"
      ],
      "metadata": {
        "id": "uppw8hNL0MH0"
      }
    },
    {
      "cell_type": "markdown",
      "source": [
        "https://egghead.io/lessons/scikit-learn-use-linear-regression-to-estimate-continuous-values-with-python-and-scikit-learn\n",
        "\n",
        "https://vitalflux.com/mean-square-error-r-squared-which-one-to-use/\n",
        "\n",
        "https://towardsdatascience.com/linear-regression-in-python-9a1f5f000606"
      ],
      "metadata": {
        "id": "JqLot5S5weHS"
      }
    },
    {
      "cell_type": "code",
      "source": [
        "from sklearn.linear_model import LinearRegression\n",
        "from sklearn.model_selection import train_test_split\n",
        "from sklearn import metrics\n",
        "from sklearn.metrics import mean_squared_error, r2_score"
      ],
      "metadata": {
        "id": "RD3kLdJmWKje"
      },
      "execution_count": null,
      "outputs": []
    },
    {
      "cell_type": "code",
      "source": [
        "# Train Test split\n",
        "X = climate.drop(columns = ['site_eui']) # covariates\n",
        "y = climate['site_eui'] # target\n",
        "X_train, X_test, y_train, y_test = train_test_split(X, y, test_size = 0.2, random_state=12345) # Split train/test sets"
      ],
      "metadata": {
        "id": "HjLDebeQWNme"
      },
      "execution_count": null,
      "outputs": []
    },
    {
      "cell_type": "code",
      "source": [
        "# Linear Model\n",
        "linear = LinearRegression()\n",
        "linear.fit(X_train, y_train)\n",
        "# TODO: Pipeline to standardize"
      ],
      "metadata": {
        "colab": {
          "base_uri": "https://localhost:8080/"
        },
        "id": "QZNsoksXWP0b",
        "outputId": "86b5f0fa-9e1b-4a7e-ffeb-f0dbb298386e"
      },
      "execution_count": null,
      "outputs": [
        {
          "output_type": "execute_result",
          "data": {
            "text/plain": [
              "LinearRegression()"
            ]
          },
          "metadata": {},
          "execution_count": 263
        }
      ]
    },
    {
      "cell_type": "code",
      "source": [
        "# Accuracy\n",
        "print('Train data score: ', round(linear.score(X_train, y_train), 2))\n",
        "print('Test data score: ', round(linear.score(X_test, y_test), 2))"
      ],
      "metadata": {
        "colab": {
          "base_uri": "https://localhost:8080/"
        },
        "id": "R8qptpX8liIG",
        "outputId": "158b01fc-bbbd-4c2a-90b9-fe5a60bc11c4"
      },
      "execution_count": null,
      "outputs": [
        {
          "output_type": "stream",
          "name": "stdout",
          "text": [
            "Train data score:  0.51\n",
            "Test data score:  0.53\n"
          ]
        }
      ]
    },
    {
      "cell_type": "code",
      "source": [
        "# Other Metrics\n",
        "predictions = linear.predict(X_test)\n",
        "# r squared, coefficient of determination\n",
        "# print(\"r squared: \" + str(linear.score(X_test, y_test)))\n",
        "print(\"R^2: \" + str(r2_score(y_test, predictions)))\n",
        "# mean squared error\n",
        "print(\"MSE: \" + str(metrics.mean_squared_error(y_test, predictions)))\n",
        "# root mean squared error\n",
        "print(\"RMSE: \" + str(np.sqrt(metrics.mean_squared_error(y_test, predictions))))\n",
        "# mean abolsute error\n",
        "print(\"MAE: \" + str(metrics.mean_absolute_error(y_test, predictions)))"
      ],
      "metadata": {
        "colab": {
          "base_uri": "https://localhost:8080/"
        },
        "id": "5g9et0XZWQoP",
        "outputId": "6fba5a8a-0ebc-4985-b7a9-fc3ec5a9179e"
      },
      "execution_count": null,
      "outputs": [
        {
          "output_type": "stream",
          "name": "stdout",
          "text": [
            "R^2: 0.5315159539951438\n",
            "MSE: 1282.2892047294888\n",
            "RMSE: 35.80906595723336\n",
            "MAE: 18.852940574408404\n"
          ]
        }
      ]
    },
    {
      "cell_type": "markdown",
      "source": [
        "R^2: bounded between 0 and 1, 1 means model fits the data perfectly with MSE of 0. Our value means about half of variation of site eui was explained by the covariates\n",
        "\n",
        "MSE: a value close to 0 will represent a better regression model (MSE of 0 represents a perfect predictor)\n",
        "\n",
        "RMSE: lower the better"
      ],
      "metadata": {
        "id": "iXErEaNYgXLC"
      }
    },
    {
      "cell_type": "code",
      "source": [
        "# Save predictions as Dataframe\n",
        "print(predictions)\n",
        "predictions_df = pd.DataFrame(data = predictions, columns = ['site_eui'])\n",
        "predictions_df.sample(4)"
      ],
      "metadata": {
        "colab": {
          "base_uri": "https://localhost:8080/",
          "height": 210
        },
        "id": "T_8WpjdtW7VM",
        "outputId": "16024c26-a941-403c-ebb1-da907be09399"
      },
      "execution_count": null,
      "outputs": [
        {
          "output_type": "stream",
          "name": "stdout",
          "text": [
            "[ 45.6261513   47.08265425  50.93392791 ...  79.33241869  92.28536781\n",
            " 101.86347912]\n"
          ]
        },
        {
          "output_type": "execute_result",
          "data": {
            "text/html": [
              "\n",
              "  <div id=\"df-3e5be661-7a0e-44d2-91ed-f9c5e5f211de\">\n",
              "    <div class=\"colab-df-container\">\n",
              "      <div>\n",
              "<style scoped>\n",
              "    .dataframe tbody tr th:only-of-type {\n",
              "        vertical-align: middle;\n",
              "    }\n",
              "\n",
              "    .dataframe tbody tr th {\n",
              "        vertical-align: top;\n",
              "    }\n",
              "\n",
              "    .dataframe thead th {\n",
              "        text-align: right;\n",
              "    }\n",
              "</style>\n",
              "<table border=\"1\" class=\"dataframe\">\n",
              "  <thead>\n",
              "    <tr style=\"text-align: right;\">\n",
              "      <th></th>\n",
              "      <th>site_eui</th>\n",
              "    </tr>\n",
              "  </thead>\n",
              "  <tbody>\n",
              "    <tr>\n",
              "      <th>6298</th>\n",
              "      <td>93.15</td>\n",
              "    </tr>\n",
              "    <tr>\n",
              "      <th>1625</th>\n",
              "      <td>80.18</td>\n",
              "    </tr>\n",
              "    <tr>\n",
              "      <th>2116</th>\n",
              "      <td>104.01</td>\n",
              "    </tr>\n",
              "    <tr>\n",
              "      <th>9058</th>\n",
              "      <td>78.41</td>\n",
              "    </tr>\n",
              "  </tbody>\n",
              "</table>\n",
              "</div>\n",
              "      <button class=\"colab-df-convert\" onclick=\"convertToInteractive('df-3e5be661-7a0e-44d2-91ed-f9c5e5f211de')\"\n",
              "              title=\"Convert this dataframe to an interactive table.\"\n",
              "              style=\"display:none;\">\n",
              "        \n",
              "  <svg xmlns=\"http://www.w3.org/2000/svg\" height=\"24px\"viewBox=\"0 0 24 24\"\n",
              "       width=\"24px\">\n",
              "    <path d=\"M0 0h24v24H0V0z\" fill=\"none\"/>\n",
              "    <path d=\"M18.56 5.44l.94 2.06.94-2.06 2.06-.94-2.06-.94-.94-2.06-.94 2.06-2.06.94zm-11 1L8.5 8.5l.94-2.06 2.06-.94-2.06-.94L8.5 2.5l-.94 2.06-2.06.94zm10 10l.94 2.06.94-2.06 2.06-.94-2.06-.94-.94-2.06-.94 2.06-2.06.94z\"/><path d=\"M17.41 7.96l-1.37-1.37c-.4-.4-.92-.59-1.43-.59-.52 0-1.04.2-1.43.59L10.3 9.45l-7.72 7.72c-.78.78-.78 2.05 0 2.83L4 21.41c.39.39.9.59 1.41.59.51 0 1.02-.2 1.41-.59l7.78-7.78 2.81-2.81c.8-.78.8-2.07 0-2.86zM5.41 20L4 18.59l7.72-7.72 1.47 1.35L5.41 20z\"/>\n",
              "  </svg>\n",
              "      </button>\n",
              "      \n",
              "  <style>\n",
              "    .colab-df-container {\n",
              "      display:flex;\n",
              "      flex-wrap:wrap;\n",
              "      gap: 12px;\n",
              "    }\n",
              "\n",
              "    .colab-df-convert {\n",
              "      background-color: #E8F0FE;\n",
              "      border: none;\n",
              "      border-radius: 50%;\n",
              "      cursor: pointer;\n",
              "      display: none;\n",
              "      fill: #1967D2;\n",
              "      height: 32px;\n",
              "      padding: 0 0 0 0;\n",
              "      width: 32px;\n",
              "    }\n",
              "\n",
              "    .colab-df-convert:hover {\n",
              "      background-color: #E2EBFA;\n",
              "      box-shadow: 0px 1px 2px rgba(60, 64, 67, 0.3), 0px 1px 3px 1px rgba(60, 64, 67, 0.15);\n",
              "      fill: #174EA6;\n",
              "    }\n",
              "\n",
              "    [theme=dark] .colab-df-convert {\n",
              "      background-color: #3B4455;\n",
              "      fill: #D2E3FC;\n",
              "    }\n",
              "\n",
              "    [theme=dark] .colab-df-convert:hover {\n",
              "      background-color: #434B5C;\n",
              "      box-shadow: 0px 1px 3px 1px rgba(0, 0, 0, 0.15);\n",
              "      filter: drop-shadow(0px 1px 2px rgba(0, 0, 0, 0.3));\n",
              "      fill: #FFFFFF;\n",
              "    }\n",
              "  </style>\n",
              "\n",
              "      <script>\n",
              "        const buttonEl =\n",
              "          document.querySelector('#df-3e5be661-7a0e-44d2-91ed-f9c5e5f211de button.colab-df-convert');\n",
              "        buttonEl.style.display =\n",
              "          google.colab.kernel.accessAllowed ? 'block' : 'none';\n",
              "\n",
              "        async function convertToInteractive(key) {\n",
              "          const element = document.querySelector('#df-3e5be661-7a0e-44d2-91ed-f9c5e5f211de');\n",
              "          const dataTable =\n",
              "            await google.colab.kernel.invokeFunction('convertToInteractive',\n",
              "                                                     [key], {});\n",
              "          if (!dataTable) return;\n",
              "\n",
              "          const docLinkHtml = 'Like what you see? Visit the ' +\n",
              "            '<a target=\"_blank\" href=https://colab.research.google.com/notebooks/data_table.ipynb>data table notebook</a>'\n",
              "            + ' to learn more about interactive tables.';\n",
              "          element.innerHTML = '';\n",
              "          dataTable['output_type'] = 'display_data';\n",
              "          await google.colab.output.renderOutput(dataTable, element);\n",
              "          const docLink = document.createElement('div');\n",
              "          docLink.innerHTML = docLinkHtml;\n",
              "          element.appendChild(docLink);\n",
              "        }\n",
              "      </script>\n",
              "    </div>\n",
              "  </div>\n",
              "  "
            ],
            "text/plain": [
              "      site_eui\n",
              "6298     93.15\n",
              "1625     80.18\n",
              "2116    104.01\n",
              "9058     78.41"
            ]
          },
          "metadata": {},
          "execution_count": 266
        }
      ]
    },
    {
      "cell_type": "code",
      "source": [
        "predictions_df.shape # TODO: should have 48439 rows"
      ],
      "metadata": {
        "colab": {
          "base_uri": "https://localhost:8080/"
        },
        "id": "Z6DBqtGaoQ1X",
        "outputId": "77ecf6a8-e6b9-467c-e476-dd8927b3d22d"
      },
      "execution_count": null,
      "outputs": [
        {
          "output_type": "execute_result",
          "data": {
            "text/plain": [
              "(9688, 1)"
            ]
          },
          "metadata": {},
          "execution_count": 267
        }
      ]
    },
    {
      "cell_type": "markdown",
      "source": [
        "# Lasso & Gradient Boosting"
      ],
      "metadata": {
        "id": "7Yde9GayBd-G"
      }
    },
    {
      "cell_type": "code",
      "source": [
        "# Lasso Model\n",
        "from sklearn import linear_model\n",
        "reg_lasso = linear_model.Lasso(alpha=0.1)\n",
        "reg_lasso.fit(X_train, y_train)"
      ],
      "metadata": {
        "colab": {
          "base_uri": "https://localhost:8080/"
        },
        "id": "iLt-Phe7Bbfh",
        "outputId": "ecfce931-fca4-4afa-d7c1-96d9baa9e273"
      },
      "execution_count": null,
      "outputs": [
        {
          "output_type": "execute_result",
          "data": {
            "text/plain": [
              "Lasso(alpha=0.1)"
            ]
          },
          "metadata": {},
          "execution_count": 268
        }
      ]
    },
    {
      "cell_type": "code",
      "source": [
        "# Accuracy\n",
        "print('Train data score: ', round(reg_lasso.score(X_train, y_train), 2))\n",
        "print('Test data score: ', round(reg_lasso.score(X_test, y_test), 2))"
      ],
      "metadata": {
        "colab": {
          "base_uri": "https://localhost:8080/"
        },
        "id": "MSUEN5_jDXnL",
        "outputId": "b5faa743-5c0d-4445-9890-ea463389b27c"
      },
      "execution_count": null,
      "outputs": [
        {
          "output_type": "stream",
          "name": "stdout",
          "text": [
            "Train data score:  0.48\n",
            "Test data score:  0.51\n"
          ]
        }
      ]
    },
    {
      "cell_type": "code",
      "source": [
        "# Gradient Boosted Regressor Model\n",
        "from sklearn.ensemble import GradientBoostingRegressor\n",
        "gb_reg = GradientBoostingRegressor(random_state = 12345)\n",
        "gb_reg.fit(X_train, y_train)"
      ],
      "metadata": {
        "colab": {
          "base_uri": "https://localhost:8080/"
        },
        "id": "yGIzQeIkD9ox",
        "outputId": "5d01a746-e09d-45c3-bae6-9a38f2bb2514"
      },
      "execution_count": null,
      "outputs": [
        {
          "output_type": "execute_result",
          "data": {
            "text/plain": [
              "GradientBoostingRegressor(random_state=12345)"
            ]
          },
          "metadata": {},
          "execution_count": 270
        }
      ]
    },
    {
      "cell_type": "code",
      "source": [
        "# Accuracy\n",
        "print('Train data score: ', round(gb_reg.score(X_train, y_train), 2))\n",
        "print('Test data score: ', round(gb_reg.score(X_test, y_test), 2))"
      ],
      "metadata": {
        "colab": {
          "base_uri": "https://localhost:8080/"
        },
        "id": "3je2vydUEXUa",
        "outputId": "e66cfc2e-89aa-4cb2-a234-718560a3c66d"
      },
      "execution_count": null,
      "outputs": [
        {
          "output_type": "stream",
          "name": "stdout",
          "text": [
            "Train data score:  0.66\n",
            "Test data score:  0.66\n"
          ]
        }
      ]
    },
    {
      "cell_type": "markdown",
      "source": [
        "#Random Forest Regressor & Support Vector Regressor Model"
      ],
      "metadata": {
        "id": "yLxccwTROqwn"
      }
    },
    {
      "cell_type": "code",
      "source": [
        "# Random Forest Regressor\n",
        "from sklearn.ensemble import RandomForestRegressor\n",
        "ran_reg = RandomForestRegressor()\n",
        "ran_reg.fit(X_train, y_train)"
      ],
      "metadata": {
        "colab": {
          "base_uri": "https://localhost:8080/"
        },
        "id": "xZ8Rcha2VXfZ",
        "outputId": "9935e080-061a-4c10-b520-f09562cd6087"
      },
      "execution_count": null,
      "outputs": [
        {
          "output_type": "execute_result",
          "data": {
            "text/plain": [
              "RandomForestRegressor()"
            ]
          },
          "metadata": {},
          "execution_count": 272
        }
      ]
    },
    {
      "cell_type": "code",
      "source": [
        "# Accuracy\n",
        "print('Train data score: ', round(ran_reg.score(X_train, y_train), 2))\n",
        "print('Test data score: ', round(ran_reg.score(X_test, y_test), 2))"
      ],
      "metadata": {
        "colab": {
          "base_uri": "https://localhost:8080/"
        },
        "id": "vNslRuLnVzWm",
        "outputId": "d34405a5-dd9c-40b6-bc20-6cf288e2f676"
      },
      "execution_count": null,
      "outputs": [
        {
          "output_type": "stream",
          "name": "stdout",
          "text": [
            "Train data score:  0.96\n",
            "Test data score:  0.72\n"
          ]
        }
      ]
    },
    {
      "cell_type": "code",
      "source": [
        "# Other Metrics\n",
        "y_pred = ran_reg.predict(X_test)\n",
        "print(\"R^2: \" + str(r2_score(y_test, y_pred)))\n",
        "print(\"MSE: \" + str(metrics.mean_squared_error(y_test, y_pred)))\n",
        "print(\"RMSE: \" + str(np.sqrt(metrics.mean_squared_error(y_test, y_pred))))\n",
        "print(\"MAE: \" + str(metrics.mean_absolute_error(y_test, y_pred)))"
      ],
      "metadata": {
        "colab": {
          "base_uri": "https://localhost:8080/"
        },
        "id": "aWeNpOQseWCy",
        "outputId": "8a15e6e7-4348-4c9e-953c-cf7ce939d088"
      },
      "execution_count": null,
      "outputs": [
        {
          "output_type": "stream",
          "name": "stdout",
          "text": [
            "R^2: 0.7179964245055391\n",
            "MSE: 771.8729028990589\n",
            "RMSE: 27.782600722377644\n",
            "MAE: 14.452064627444642\n"
          ]
        }
      ]
    },
    {
      "cell_type": "code",
      "source": [
        "# Support Vector Regressor (SVR) Model\n",
        "from sklearn.svm import SVR\n",
        "from sklearn.pipeline import make_pipeline\n",
        "from sklearn.preprocessing import StandardScaler\n",
        "\n",
        "regressor = make_pipeline(StandardScaler(), SVR(kernel = 'rbf'))\n",
        "regressor.fit(X_train, y_train)"
      ],
      "metadata": {
        "colab": {
          "base_uri": "https://localhost:8080/"
        },
        "id": "WygbqFVdev1i",
        "outputId": "683121e4-a2df-4ba8-ffb5-29c068ca9b10"
      },
      "execution_count": null,
      "outputs": [
        {
          "output_type": "execute_result",
          "data": {
            "text/plain": [
              "Pipeline(steps=[('standardscaler', StandardScaler()), ('svr', SVR())])"
            ]
          },
          "metadata": {},
          "execution_count": 275
        }
      ]
    },
    {
      "cell_type": "code",
      "source": [
        "# Accuracy\n",
        "print('Train data score: ', round(regressor.score(X_train, y_train), 2))\n",
        "print('Test data score: ', round(regressor.score(X_test, y_test), 2))"
      ],
      "metadata": {
        "id": "opWZvtZMiGXn",
        "colab": {
          "base_uri": "https://localhost:8080/"
        },
        "outputId": "181d876e-2334-4c69-c3e6-324476e4a589"
      },
      "execution_count": null,
      "outputs": [
        {
          "output_type": "stream",
          "name": "stdout",
          "text": [
            "Train data score:  0.39\n",
            "Test data score:  0.41\n"
          ]
        }
      ]
    },
    {
      "cell_type": "code",
      "source": [
        "# Other Metrics\n",
        "y_pred_svr = regressor.predict(X_test)\n",
        "print(\"R^2: \" + str(r2_score(y_test, y_pred_svr)))\n",
        "print(\"MSE: \" + str(metrics.mean_squared_error(y_test, y_pred_svr)))\n",
        "print(\"RMSE: \" + str(np.sqrt(metrics.mean_squared_error(y_test, y_pred_svr))))\n",
        "print(\"MAE: \" + str(metrics.mean_absolute_error(y_test, y_pred_svr)))"
      ],
      "metadata": {
        "id": "MeTT_QEFh5AI",
        "colab": {
          "base_uri": "https://localhost:8080/"
        },
        "outputId": "b4e532cd-ae80-4fcb-ec72-1beb812dab43"
      },
      "execution_count": null,
      "outputs": [
        {
          "output_type": "stream",
          "name": "stdout",
          "text": [
            "R^2: 0.41110900375699877\n",
            "MSE: 1611.8554595068686\n",
            "RMSE: 40.14791974071469\n",
            "MAE: 18.750404778651635\n"
          ]
        }
      ]
    },
    {
      "cell_type": "markdown",
      "source": [
        "# Principal component features with sequential deep learning model"
      ],
      "metadata": {
        "id": "AMLWIUyfNb2r"
      }
    },
    {
      "cell_type": "code",
      "source": [],
      "metadata": {
        "id": "eznz3q9Kfo3o"
      },
      "execution_count": null,
      "outputs": []
    },
    {
      "cell_type": "markdown",
      "source": [
        "# Multi-Models"
      ],
      "metadata": {
        "id": "R0uVJt79N8Vh"
      }
    },
    {
      "cell_type": "markdown",
      "source": [
        "- Run multiple types of models at once: https://towardsdatascience.com/quickly-test-multiple-models-a98477476f0\n",
        "- Trying to predict a continuous value\n",
        "- Can classification models like decision tree be used for predicting coninuous values?"
      ],
      "metadata": {
        "id": "d_G8100F1zuQ"
      }
    },
    {
      "cell_type": "code",
      "source": [
        "from sklearn.linear_model import LogisticRegression\n",
        "from sklearn.linear_model import LinearRegression\n",
        "from sklearn.neighbors import KNeighborsClassifier\n",
        "from sklearn.svm import SVC\n",
        "from sklearn.ensemble import RandomForestClassifier\n",
        "from sklearn.naive_bayes import GaussianNB\n",
        "from xgboost import XGBClassifier\n",
        "\n",
        "from sklearn import model_selection\n",
        "from sklearn.utils import class_weight\n",
        "from sklearn.metrics import classification_report\n",
        "from sklearn.metrics import confusion_matrix\n",
        "\n",
        "from sklearn.naive_bayes import MultinomialNB\n",
        "from sklearn.neighbors import KNeighborsClassifier\n",
        "from sklearn.linear_model import LogisticRegression\n",
        "from sklearn.tree import DecisionTreeClassifier\n",
        "from sklearn.ensemble import RandomForestClassifier\n",
        "\n",
        "from sklearn.model_selection import train_test_split\n",
        "from sklearn.metrics import accuracy_score, f1_score, confusion_matrix, precision_score, recall_score, roc_auc_score\n",
        "from sklearn import metrics\n",
        "np.random.seed(12345)"
      ],
      "metadata": {
        "id": "ei0q5SbE1_JP"
      },
      "execution_count": null,
      "outputs": []
    },
    {
      "cell_type": "code",
      "source": [
        "# Train Test split\n",
        "X = climate.drop(columns = ['site_eui']) # covariates\n",
        "y = climate['site_eui'] # target\n",
        "X_train, X_test, y_train, y_test = train_test_split(X, y, test_size = 0.2, random_state=12345) # Split train/test sets"
      ],
      "metadata": {
        "id": "4nmxvXaxJn5U"
      },
      "execution_count": null,
      "outputs": []
    },
    {
      "cell_type": "code",
      "source": [
        "# Train models\n",
        "linear = LinearRegression()\n",
        "linear.fit(X_train, y_train)\n",
        "\n",
        "# NB = MultinomialNB()\n",
        "# NB.fit(X_train, y_train)\n",
        "\n",
        "# KNN = KNeighborsClassifier(n_neighbors = 20)\n",
        "# KNN.fit(X_train, y_train)\n",
        "\n",
        "# logreg = LogisticRegression(solver = 'lbfgs', C=1e9, max_iter = 1000000000)\n",
        "# logreg.fit(X_train, y_train)\n",
        "\n",
        "# DT = DecisionTreeClassifier(random_state = 12345)\n",
        "# DT.fit(X_train, y_train)\n",
        "\n",
        "# # Instantiate model with 100 decision trees\n",
        "# RF = RandomForestClassifier(random_state = 12345)\n",
        "# RF.fit(X_train, y_train)"
      ],
      "metadata": {
        "id": "yB7dndYTLvuI"
      },
      "execution_count": null,
      "outputs": []
    },
    {
      "cell_type": "code",
      "source": [
        "predictions = linear.predict(X_test)\n",
        "# r squared, coefficient of determination\n",
        "print(\"r squared: \" + str(linear.score(X_test, y_test)))\n",
        "# mean squared error\n",
        "print(\"mean squared error: \" + str(metrics.mean_squared_error(y_test, predictions)))\n",
        "\n",
        "# print(\"accuracy of Linear: \" + str(metrics.accuracy_score(y_test, linear.predict(X_test))))\n",
        "# print(\"accuracy of NB: \" + str(metrics.accuracy_score(y_test, NB.predict(X_test))))\n",
        "# print(\"accuracy of KNN: \" + str(metrics.accuracy_score(y_test, KNN.predict(X_test))))\n",
        "# print(\"accuracy of logistic: \" + str(metrics.accuracy_score(y_test, logreg.predict(X_test))))\n",
        "# print(\"accuracy of DT: \" + str(metrics.accuracy_score(y_test, DT.predict(X_test))))\n",
        "# print(\"accuracy of RF: \" + str(metrics.accuracy_score(y_test, RF.predict(X_test))))"
      ],
      "metadata": {
        "id": "bu1PrXwJNINs"
      },
      "execution_count": null,
      "outputs": []
    },
    {
      "cell_type": "code",
      "source": [
        "def run_exps(X_train: pd.DataFrame , y_train: pd.DataFrame, X_test: pd.DataFrame, y_test: pd.DataFrame) -> pd.DataFrame:\n",
        "    '''\n",
        "    Lightweight script to test many models and find winners\n",
        "    :param X_train: training split\n",
        "    :param y_train: training target vector\n",
        "    :param X_test: test split\n",
        "    :param y_test: test target vector\n",
        "    :return: DataFrame of predictions\n",
        "    '''\n",
        "    \n",
        "    dfs = [] # list of datasets\n",
        "    models = [\n",
        "          ('LogReg', LogisticRegression()), \n",
        "          ('RF', RandomForestClassifier()),\n",
        "          ('KNN', KNeighborsClassifier()),\n",
        "          ('SVM', SVC()), \n",
        "          ('GNB', GaussianNB()),\n",
        "          ('XGB', XGBClassifier())\n",
        "        ]\n",
        "\n",
        "    results = []\n",
        "    names = []\n",
        "    scoring = ['accuracy', 'precision_weighted', 'recall_weighted', 'f1_weighted', 'roc_auc']\n",
        "    target_names = ['malignant', 'benign']\n",
        "    \n",
        "    for name, model in models:\n",
        "        kfold = model_selection.KFold(n_splits=5, shuffle=True, random_state=90210)\n",
        "        cv_results = model_selection.cross_validate(model, X_train, y_train, cv=kfold, scoring=scoring)\n",
        "        clf = model.fit(X_train, y_train)\n",
        "        y_pred = clf.predict(X_test)\n",
        "        print(name)\n",
        "        print(classification_report(y_test, y_pred, target_names=target_names))\n",
        "        results.append(cv_results)\n",
        "        names.append(name)\n",
        "        this_df = pd.DataFrame(cv_results)\n",
        "        this_df['model'] = name\n",
        "        dfs.append(this_df)\n",
        "\n",
        "    final = pd.concat(dfs, ignore_index=True)\n",
        "    return final"
      ],
      "metadata": {
        "id": "hZWsH8Xz5r5r"
      },
      "execution_count": null,
      "outputs": []
    }
  ]
}